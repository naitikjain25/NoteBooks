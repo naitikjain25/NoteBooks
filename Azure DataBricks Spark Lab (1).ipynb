{
 "cells": [
  {
   "cell_type": "markdown",
   "metadata": {
    "application/vnd.databricks.v1+cell": {
     "cellMetadata": {
      "byteLimit": 2048000,
      "rowLimit": 10000
     },
     "inputWidgets": {},
     "nuid": "7fcc9637-a582-45ae-8a64-96a6746be766",
     "showTitle": false,
     "tableResultSettingsMap": {},
     "title": ""
    }
   },
   "source": [
    "Azure DataBricks Spark Lab"
   ]
  },
  {
   "cell_type": "code",
   "execution_count": 0,
   "metadata": {
    "application/vnd.databricks.v1+cell": {
     "cellMetadata": {
      "byteLimit": 2048000,
      "rowLimit": 10000
     },
     "inputWidgets": {},
     "nuid": "84669206-8f7a-4bd8-9592-c19ebdbac499",
     "showTitle": false,
     "tableResultSettingsMap": {},
     "title": ""
    }
   },
   "outputs": [],
   "source": [
    "from pyspark.sql import SparkSession\n",
    "\n",
    "spark = SparkSession.builder.appName(\"spark Lab Data Engineering\").getOrCreate()\n",
    "file_path = '/FileStore/tables/sales_data/*.csv'\n",
    "df = spark.read.csv(file_path, header=True, inferSchema=True)\n",
    "display(df.limit(100))"
   ]
  },
  {
   "cell_type": "code",
   "execution_count": 0,
   "metadata": {
    "application/vnd.databricks.v1+cell": {
     "cellMetadata": {
      "byteLimit": 2048000,
      "rowLimit": 10000
     },
     "inputWidgets": {},
     "nuid": "2f765fa2-5ff3-4033-9414-1e0095763bbc",
     "showTitle": false,
     "tableResultSettingsMap": {},
     "title": ""
    }
   },
   "outputs": [],
   "source": [
    "from pyspark.sql.types import *\n",
    "from pyspark.sql.functions import *\n",
    "orderSchema = StructType([\n",
    "     StructField(\"SalesOrderNumber\", StringType()),\n",
    "     StructField(\"SalesOrderLineNumber\", IntegerType()),\n",
    "     StructField(\"OrderDate\", DateType()),\n",
    "     StructField(\"CustomerName\", StringType()),\n",
    "     StructField(\"Email\", StringType()),\n",
    "     StructField(\"Item\", StringType()),\n",
    "     StructField(\"Quantity\", IntegerType()),\n",
    "     StructField(\"UnitPrice\", FloatType()),\n",
    "     StructField(\"Tax\", FloatType())\n",
    "])\n",
    "df = spark.read.load('/FileStore/tables/sales_data/.csv', format='csv', schema=orderSchema)\n",
    "display(df.limit(100))"
   ]
  }
 ],
 "metadata": {
  "application/vnd.databricks.v1+notebook": {
   "computePreferences": null,
   "dashboards": [],
   "environmentMetadata": {
    "base_environment": "",
    "environment_version": "1"
   },
   "inputWidgetPreferences": null,
   "language": "python",
   "notebookMetadata": {
    "pythonIndentUnit": 4
   },
   "notebookName": "Azure DataBricks Spark Lab",
   "widgets": {}
  }
 },
 "nbformat": 4,
 "nbformat_minor": 0
}