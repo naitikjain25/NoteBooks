{
 "cells": [
  {
   "cell_type": "code",
   "execution_count": 0,
   "metadata": {
    "application/vnd.databricks.v1+cell": {
     "cellMetadata": {
      "byteLimit": 2048000,
      "rowLimit": 10000
     },
     "inputWidgets": {},
     "nuid": "039385eb-a030-4c13-9bac-6899519a0a3c",
     "showTitle": false,
     "tableResultSettingsMap": {},
     "title": ""
    }
   },
   "outputs": [
    {
     "output_type": "stream",
     "name": "stdout",
     "output_type": "stream",
     "text": [
      "root\n |-- 2014 rank: integer (nullable = true)\n |-- City: string (nullable = true)\n |-- State: string (nullable = true)\n |-- State Code: string (nullable = true)\n |-- 2014 Population estimate: integer (nullable = true)\n |-- 2015 median sales price: double (nullable = true)\n\n+---------+-------------+-------+----------+------------------------+-----------------------+\n|2014 rank|         City|  State|State Code|2014 Population estimate|2015 median sales price|\n+---------+-------------+-------+----------+------------------------+-----------------------+\n|      101|   Birmingham|Alabama|        AL|                  212247|                  162.9|\n|      125|   Huntsville|Alabama|        AL|                  188226|                  157.7|\n|      122|       Mobile|Alabama|        AL|                  194675|                  122.5|\n|      114|   Montgomery|Alabama|        AL|                  200481|                  129.0|\n|       64|Anchorage[19]| Alaska|        AK|                  301010|                   null|\n+---------+-------------+-------+----------+------------------------+-----------------------+\nonly showing top 5 rows\n\n"
     ]
    }
   ],
   "source": [
    "# Load the dataset from DBFS (Databricks Filesystem)\n",
    "file_path = \"/databricks-datasets/samples/population-vs-price/data_geo.csv\"\n",
    "df = spark.read.csv(file_path, header=True, inferSchema=True)\n",
    "df.printSchema()\n",
    "df.show(5)"
   ]
  },
  {
   "cell_type": "code",
   "execution_count": 0,
   "metadata": {
    "application/vnd.databricks.v1+cell": {
     "cellMetadata": {
      "byteLimit": 2048000,
      "rowLimit": 10000
     },
     "inputWidgets": {},
     "nuid": "cf509f41-7a9d-4e84-9147-06f2ff1abb0a",
     "showTitle": false,
     "tableResultSettingsMap": {},
     "title": ""
    }
   },
   "outputs": [
    {
     "output_type": "stream",
     "name": "stdout",
     "output_type": "stream",
     "text": [
      "+-------------+-------+----------+------------------------+-----------------------+\n|         City|  State|State Code|2014 Population estimate|2015 median sales price|\n+-------------+-------+----------+------------------------+-----------------------+\n|   Birmingham|Alabama|        AL|                  212247|                  162.9|\n|   Huntsville|Alabama|        AL|                  188226|                  157.7|\n|       Mobile|Alabama|        AL|                  194675|                  122.5|\n|   Montgomery|Alabama|        AL|                  200481|                  129.0|\n|Anchorage[19]| Alaska|        AK|                  301010|                   null|\n+-------------+-------+----------+------------------------+-----------------------+\nonly showing top 5 rows\n\n"
     ]
    }
   ],
   "source": [
    "# Select relevant columns for analysis\n",
    "df_selected = df.select(\n",
    "    \"City\", \"State\", \"State Code\", \n",
    "    \"2014 Population estimate\", \"2015 median sales price\"\n",
    ")\n",
    "df_selected.show(5)"
   ]
  },
  {
   "cell_type": "code",
   "execution_count": 0,
   "metadata": {
    "application/vnd.databricks.v1+cell": {
     "cellMetadata": {
      "byteLimit": 2048000,
      "rowLimit": 10000
     },
     "inputWidgets": {},
     "nuid": "2fa2cc17-9e9b-4ff1-ba7d-62136068a1fd",
     "showTitle": false,
     "tableResultSettingsMap": {},
     "title": ""
    }
   },
   "outputs": [
    {
     "output_type": "display_data",
     "data": {
      "text/html": [
       "<style scoped>\n",
       "  .table-result-container {\n",
       "    max-height: 300px;\n",
       "    overflow: auto;\n",
       "  }\n",
       "  table, th, td {\n",
       "    border: 1px solid black;\n",
       "    border-collapse: collapse;\n",
       "  }\n",
       "  th, td {\n",
       "    padding: 5px;\n",
       "  }\n",
       "  th {\n",
       "    text-align: left;\n",
       "  }\n",
       "</style><div class='table-result-container'><table class='table-result'><thead style='background-color: white'><tr><th>City</th></tr></thead><tbody><tr><td>New York[6]</td></tr><tr><td>Los Angeles</td></tr><tr><td>Chicago</td></tr><tr><td>Houston[7]</td></tr><tr><td>Philadelphia[8]</td></tr><tr><td>Phoenix</td></tr><tr><td>San Antonio</td></tr><tr><td>San Diego</td></tr><tr><td>Dallas</td></tr><tr><td>San Jose</td></tr></tbody></table></div>"
      ]
     },
     "metadata": {
      "application/vnd.databricks.v1+output": {
       "addedWidgets": {},
       "aggData": [],
       "aggError": "",
       "aggOverflow": false,
       "aggSchema": [],
       "aggSeriesLimitReached": false,
       "aggType": "",
       "arguments": {},
       "columnCustomDisplayInfos": {},
       "data": [
        [
         "New York[6]"
        ],
        [
         "Los Angeles"
        ],
        [
         "Chicago"
        ],
        [
         "Houston[7]"
        ],
        [
         "Philadelphia[8]"
        ],
        [
         "Phoenix"
        ],
        [
         "San Antonio"
        ],
        [
         "San Diego"
        ],
        [
         "Dallas"
        ],
        [
         "San Jose"
        ]
       ],
       "datasetInfos": [],
       "dbfsResultPath": null,
       "isJsonSchema": true,
       "metadata": {},
       "overflow": false,
       "plotOptions": {
        "customPlotOptions": {},
        "displayType": "table",
        "pivotAggregation": null,
        "pivotColumns": null,
        "xColumns": null,
        "yColumns": null
       },
       "removedWidgets": [],
       "schema": [
        {
         "metadata": "{}",
         "name": "City",
         "type": "\"string\""
        }
       ],
       "type": "table"
      }
     },
     "output_type": "display_data"
    },
    {
     "output_type": "display_data",
     "data": {
      "text/plain": [
       "Databricks visualization. Run in Databricks to view."
      ]
     },
     "metadata": {
      "application/vnd.databricks.v1.subcommand+json": {
       "baseErrorDetails": null,
       "bindings": {},
       "collapsed": false,
       "command": "%python\n__backend_agg_display_orig = display\n__backend_agg_dfs = []\ndef __backend_agg_display_new(df):\n    __backend_agg_df_modules = [\"pandas.core.frame\", \"databricks.koalas.frame\", \"pyspark.sql.dataframe\", \"pyspark.pandas.frame\", \"pyspark.sql.connect.dataframe\"]\n    if (type(df).__module__ in __backend_agg_df_modules and type(df).__name__ == 'DataFrame') or isinstance(df, list):\n        __backend_agg_dfs.append(df)\n\ndisplay = __backend_agg_display_new\n\ndef __backend_agg_user_code_fn():\n    import base64\n    exec(base64.standard_b64decode(\"IyBUT1AgMTAgTU9TVCBQT1BVTE9VUyBDSVRJRVMKZnJvbSBweXNwYXJrLnNxbC5mdW5jdGlvbnMgaW1wb3J0IGRlc2MKcG9wdWxhdGVkX2NpdGllcz1kZi5zZWxlY3QoIkNpdHkiKS5vcmRlckJ5KGRlc2MoIjIwMTQgcG9wdWxhdGlvbiBlc3RpbWF0ZSIpKS5saW1pdCgxMCkKZGlzcGxheShwb3B1bGF0ZWRfY2l0aWVzKQ==\").decode())\n\ntry:\n    # run user code\n    __backend_agg_user_code_fn()\n\n    #reset display function\n    display = __backend_agg_display_orig\n\n    if len(__backend_agg_dfs) > 0:\n        # create a temp view\n        if type(__backend_agg_dfs[0]).__module__ == \"databricks.koalas.frame\":\n            # koalas dataframe\n            __backend_agg_dfs[0].to_spark().createOrReplaceTempView(\"DatabricksViewc714022\")\n        elif type(__backend_agg_dfs[0]).__module__ == \"pandas.core.frame\" or isinstance(__backend_agg_dfs[0], list):\n            # pandas dataframe\n            spark.createDataFrame(__backend_agg_dfs[0]).createOrReplaceTempView(\"DatabricksViewc714022\")\n        else:\n            __backend_agg_dfs[0].createOrReplaceTempView(\"DatabricksViewc714022\")\n        #run backend agg\n        display(spark.sql(\"\"\"WITH q AS (select * from DatabricksViewc714022) SELECT `City`,COUNT(*) `column_6123ac1242` FROM q GROUP BY `City`\"\"\"))\n    else:\n        displayHTML(\"dataframe no longer exists. If you're using dataframe.display(), use display(dataframe) instead.\")\n\n\nfinally:\n    spark.sql(\"drop view if exists DatabricksViewc714022\")\n    display = __backend_agg_display_orig\n    del __backend_agg_display_new\n    del __backend_agg_display_orig\n    del __backend_agg_dfs\n    del __backend_agg_user_code_fn\n\n",
       "commandTitle": "Visualization 1",
       "commandType": "auto",
       "commandVersion": 0,
       "commentThread": [],
       "commentsVisible": false,
       "contentSha256Hex": null,
       "customPlotOptions": {
        "redashChart": [
         {
          "key": "type",
          "value": "CHART"
         },
         {
          "key": "options",
          "value": {
           "alignYAxesAtZero": true,
           "coefficient": 1,
           "columnConfigurationMap": {
            "x": {
             "column": "City",
             "id": "column_6123ac1241"
            },
            "y": [
             {
              "column": "*",
              "id": "column_6123ac1242",
              "transform": "COUNT"
             }
            ]
           },
           "dateTimeFormat": "DD/MM/YYYY HH:mm",
           "direction": {
            "type": "counterclockwise"
           },
           "error_y": {
            "type": "data",
            "visible": true
           },
           "globalSeriesType": "column",
           "isAggregationOn": true,
           "legend": {
            "traceorder": "normal"
           },
           "missingValuesAsZero": true,
           "numberFormat": "0,0.[00000]",
           "percentFormat": "0[.]00%",
           "series": {
            "error_y": {
             "type": "data",
             "visible": true
            },
            "stacking": null
           },
           "seriesOptions": {
            "column_6123ac1242": {
             "name": "*",
             "type": "column",
             "yAxis": 0
            }
           },
           "showDataLabels": false,
           "sizemode": "diameter",
           "sortX": true,
           "sortY": true,
           "swappedAxes": false,
           "textFormat": "",
           "useAggregationsUi": true,
           "valuesOptions": {},
           "version": 2,
           "xAxis": {
            "labels": {
             "enabled": true
            },
            "type": "-"
           },
           "yAxis": [
            {
             "type": "-"
            },
            {
             "opposite": true,
             "type": "-"
            }
           ]
          }
         }
        ]
       },
       "datasetPreviewNameToCmdIdMap": {},
       "diffDeletes": [],
       "diffInserts": [],
       "displayType": "redashChart",
       "error": null,
       "errorDetails": null,
       "errorSummary": null,
       "errorTraceType": null,
       "finishTime": 0,
       "globalVars": {},
       "guid": "",
       "height": "auto",
       "hideCommandCode": false,
       "hideCommandResult": false,
       "iPythonMetadata": null,
       "inputWidgets": {},
       "isLockedInExamMode": false,
       "latestUser": "a user",
       "latestUserId": null,
       "listResultMetadata": null,
       "metadata": {},
       "nuid": "926c92ef-e20f-4218-9980-73dd6bd13f61",
       "origId": 0,
       "parentHierarchy": [],
       "pivotAggregation": null,
       "pivotColumns": null,
       "position": 4.0,
       "resultDbfsErrorMessage": null,
       "resultDbfsStatus": "INLINED_IN_TREE",
       "results": null,
       "showCommandTitle": false,
       "startTime": 0,
       "state": "input",
       "streamStates": {},
       "subcommandOptions": {
        "queryPlan": {
         "groups": [
          {
           "column": "City",
           "type": "column"
          }
         ],
         "selects": [
          {
           "column": "City",
           "type": "column"
          },
          {
           "alias": "column_6123ac1242",
           "args": [
            {
             "column": "*",
             "type": "column"
            }
           ],
           "function": "COUNT",
           "type": "function"
          }
         ]
        }
       },
       "submitTime": 0,
       "subtype": "tableResultSubCmd.visualization",
       "tableResultIndex": 0,
       "tableResultSettingsMap": {},
       "useConsistentColors": false,
       "version": "CommandV1",
       "width": "auto",
       "workflows": [],
       "xColumns": null,
       "yColumns": null
      }
     },
     "output_type": "display_data"
    }
   ],
   "source": [
    "# TOP 10 MOST POPULOUS CITIES\n",
    "from pyspark.sql.functions import desc\n",
    "populated_cities=df.select(\"City\").orderBy(desc(\"2014 population estimate\")).limit(10)\n",
    "display(populated_cities)"
   ]
  },
  {
   "cell_type": "code",
   "execution_count": 0,
   "metadata": {
    "application/vnd.databricks.v1+cell": {
     "cellMetadata": {
      "byteLimit": 2048000,
      "rowLimit": 10000
     },
     "inputWidgets": {},
     "nuid": "78b3fdcc-194b-4763-84c1-1ef6d640af20",
     "showTitle": false,
     "tableResultSettingsMap": {},
     "title": ""
    }
   },
   "outputs": [
    {
     "output_type": "stream",
     "name": "stdout",
     "output_type": "stream",
     "text": [
      "+--------------------+--------------------------+\n|               State|Average_Median_Sales_Price|\n+--------------------+--------------------------+\n|             Hawai'i|                     699.3|\n|          California|         547.9714285714286|\n|District of Columbia|                     367.8|\n|          New Jersey|                     350.8|\n|            Colorado|        333.46666666666664|\n|          Washington|        266.29999999999995|\n|       Massachusetts|                     261.8|\n|         Connecticut|        250.13333333333333|\n|                Utah|                     243.3|\n|       New Hampshire|                     237.4|\n+--------------------+--------------------------+\nonly showing top 10 rows\n\n"
     ]
    }
   ],
   "source": [
    "#AVERAGE MEDIAN SALES PRICE BY STATE\n",
    "from pyspark.sql.functions import avg\n",
    "\n",
    "# Group by State and calculate average of \"2015 median sales price\"\n",
    "avg_price_by_state = df_selected.groupBy(\"State\").agg(\n",
    "    avg(\"2015 median sales price\").alias(\"Average_Median_Sales_Price\")\n",
    ")\n",
    "\n",
    "# Show the result\n",
    "avg_price_by_state.orderBy(\"Average_Median_Sales_Price\", ascending=False).show(10)\n"
   ]
  },
  {
   "cell_type": "code",
   "execution_count": 0,
   "metadata": {
    "application/vnd.databricks.v1+cell": {
     "cellMetadata": {
      "byteLimit": 2048000,
      "rowLimit": 10000
     },
     "inputWidgets": {},
     "nuid": "517273c8-63a5-461a-9d6a-600fcb8d817a",
     "showTitle": false,
     "tableResultSettingsMap": {},
     "title": ""
    }
   },
   "outputs": [
    {
     "output_type": "display_data",
     "data": {
      "text/html": [
       "<style scoped>\n",
       "  .table-result-container {\n",
       "    max-height: 300px;\n",
       "    overflow: auto;\n",
       "  }\n",
       "  table, th, td {\n",
       "    border: 1px solid black;\n",
       "    border-collapse: collapse;\n",
       "  }\n",
       "  th, td {\n",
       "    padding: 5px;\n",
       "  }\n",
       "  th {\n",
       "    text-align: left;\n",
       "  }\n",
       "</style><div class='table-result-container'><table class='table-result'><thead style='background-color: white'><tr><th>City</th><th>State</th><th>State Code</th><th>2014 Population estimate</th><th>2015 median sales price</th></tr></thead><tbody><tr><td>New York[6]</td><td>New York</td><td>NY</td><td>8491079</td><td>388.6</td></tr><tr><td>Los Angeles</td><td>California</td><td>CA</td><td>3928864</td><td>434.7</td></tr><tr><td>Chicago</td><td>Illinois</td><td>IL</td><td>2722389</td><td>192.5</td></tr><tr><td>Houston[7]</td><td>Texas</td><td>TX</td><td>2239558</td><td>200.3</td></tr><tr><td>Philadelphia[8]</td><td>Pennsylvania</td><td>PA</td><td>1560297</td><td>204.9</td></tr><tr><td>Phoenix</td><td>Arizona</td><td>AZ</td><td>1537058</td><td>206.1</td></tr><tr><td>San Antonio</td><td>Texas</td><td>TX</td><td>1436697</td><td>184.7</td></tr><tr><td>San Diego</td><td>California</td><td>CA</td><td>1381069</td><td>510.3</td></tr><tr><td>Dallas</td><td>Texas</td><td>TX</td><td>1281047</td><td>192.5</td></tr><tr><td>San Jose</td><td>California</td><td>CA</td><td>1015785</td><td>900.0</td></tr></tbody></table></div>"
      ]
     },
     "metadata": {
      "application/vnd.databricks.v1+output": {
       "addedWidgets": {},
       "aggData": [],
       "aggError": "",
       "aggOverflow": false,
       "aggSchema": [],
       "aggSeriesLimitReached": false,
       "aggType": "",
       "arguments": {},
       "columnCustomDisplayInfos": {},
       "data": [
        [
         "New York[6]",
         "New York",
         "NY",
         8491079,
         388.6
        ],
        [
         "Los Angeles",
         "California",
         "CA",
         3928864,
         434.7
        ],
        [
         "Chicago",
         "Illinois",
         "IL",
         2722389,
         192.5
        ],
        [
         "Houston[7]",
         "Texas",
         "TX",
         2239558,
         200.3
        ],
        [
         "Philadelphia[8]",
         "Pennsylvania",
         "PA",
         1560297,
         204.9
        ],
        [
         "Phoenix",
         "Arizona",
         "AZ",
         1537058,
         206.1
        ],
        [
         "San Antonio",
         "Texas",
         "TX",
         1436697,
         184.7
        ],
        [
         "San Diego",
         "California",
         "CA",
         1381069,
         510.3
        ],
        [
         "Dallas",
         "Texas",
         "TX",
         1281047,
         192.5
        ],
        [
         "San Jose",
         "California",
         "CA",
         1015785,
         900.0
        ]
       ],
       "datasetInfos": [],
       "dbfsResultPath": null,
       "isJsonSchema": true,
       "metadata": {},
       "overflow": false,
       "plotOptions": {
        "customPlotOptions": {},
        "displayType": "table",
        "pivotAggregation": null,
        "pivotColumns": null,
        "xColumns": null,
        "yColumns": null
       },
       "removedWidgets": [],
       "schema": [
        {
         "metadata": "{}",
         "name": "City",
         "type": "\"string\""
        },
        {
         "metadata": "{}",
         "name": "State",
         "type": "\"string\""
        },
        {
         "metadata": "{}",
         "name": "State Code",
         "type": "\"string\""
        },
        {
         "metadata": "{}",
         "name": "2014 Population estimate",
         "type": "\"integer\""
        },
        {
         "metadata": "{}",
         "name": "2015 median sales price",
         "type": "\"double\""
        }
       ],
       "type": "table"
      }
     },
     "output_type": "display_data"
    }
   ],
   "source": [
    "#Filter cities with population > 1 Millon and display in descending order\n",
    "population = df_selected.filter(df_selected[\"2014 Population estimate\"] > 1_000_000)\n",
    "display(population.orderBy(\"2014 Population estimate\", ascending=False))\n"
   ]
  },
  {
   "cell_type": "code",
   "execution_count": 0,
   "metadata": {
    "application/vnd.databricks.v1+cell": {
     "cellMetadata": {
      "byteLimit": 2048000,
      "rowLimit": 10000
     },
     "inputWidgets": {},
     "nuid": "80dbcaeb-87f8-4a4b-a534-f4f5d762f8cf",
     "showTitle": false,
     "tableResultSettingsMap": {},
     "title": ""
    }
   },
   "outputs": [
    {
     "output_type": "display_data",
     "data": {
      "text/plain": [
       "\u001B[0;36m  File \u001B[0;32m<command-314138678797492>:3\u001B[0;36m\u001B[0m\n",
       "\u001B[0;31m    df_selected.filter((df_selected[\"2015 median sales price\"].isNull()) | (df_selected[\"2015 median sales price\"] == 0)).show()\u001B[0m\n",
       "\u001B[0m                                                                                                                  ^\u001B[0m\n",
       "\u001B[0;31mSyntaxError\u001B[0m\u001B[0;31m:\u001B[0m invalid non-printable character U+00A0\n"
      ]
     },
     "metadata": {
      "application/vnd.databricks.v1+output": {
       "arguments": {},
       "data": "\u001B[0;36m  File \u001B[0;32m<command-314138678797492>:3\u001B[0;36m\u001B[0m\n\u001B[0;31m    df_selected.filter((df_selected[\"2015 median sales price\"].isNull()) | (df_selected[\"2015 median sales price\"] == 0)).show()\u001B[0m\n\u001B[0m                                                                                                                  ^\u001B[0m\n\u001B[0;31mSyntaxError\u001B[0m\u001B[0;31m:\u001B[0m invalid non-printable character U+00A0\n",
       "errorSummary": "<span class='ansi-red-fg'>SyntaxError</span>: invalid non-printable character U+00A0 (<command-314138678797492>, line 3)",
       "errorTraceType": "ansi",
       "metadata": {},
       "type": "ipynbError"
      }
     },
     "output_type": "display_data"
    }
   ],
   "source": [
    "#Identify cities with missing or zero price values\n",
    "#Identify cities with missing or zero price values\n",
    "df_selected.filter((df_selected[\"2015 median sales price\"].isNull()) | (df_selected[\"2015 median sales price\"] == 0)).show()"
   ]
  },
  {
   "cell_type": "code",
   "execution_count": 0,
   "metadata": {
    "application/vnd.databricks.v1+cell": {
     "cellMetadata": {},
     "inputWidgets": {},
     "nuid": "b16a844b-f0d2-4b13-8d1a-b8b885014b8f",
     "showTitle": false,
     "tableResultSettingsMap": {},
     "title": ""
    }
   },
   "outputs": [],
   "source": []
  }
 ],
 "metadata": {
  "application/vnd.databricks.v1+notebook": {
   "computePreferences": null,
   "dashboards": [],
   "environmentMetadata": {
    "base_environment": "",
    "environment_version": "1"
   },
   "inputWidgetPreferences": null,
   "language": "python",
   "notebookMetadata": {
    "pythonIndentUnit": 4
   },
   "notebookName": "Population Price Analysis",
   "widgets": {}
  }
 },
 "nbformat": 4,
 "nbformat_minor": 0
}