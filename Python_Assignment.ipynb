{
 "cells": [
  {
   "cell_type": "code",
   "execution_count": 0,
   "metadata": {
    "application/vnd.databricks.v1+cell": {
     "cellMetadata": {
      "byteLimit": 2048000,
      "rowLimit": 10000
     },
     "inputWidgets": {},
     "nuid": "c671ba75-cc1d-4edf-811e-c849c20e6170",
     "showTitle": false,
     "tableResultSettingsMap": {},
     "title": ""
    }
   },
   "outputs": [
    {
     "output_type": "stream",
     "name": "stdout",
     "output_type": "stream",
     "text": [
      "[250, 300, 400, 150, 500, 200]\n"
     ]
    }
   ],
   "source": [
    "#List Operations\n",
    "sales = [250, 300, 400, 150, 500, 200]\n",
    "print(sales)"
   ]
  },
  {
   "cell_type": "code",
   "execution_count": 0,
   "metadata": {
    "application/vnd.databricks.v1+cell": {
     "cellMetadata": {
      "byteLimit": 2048000,
      "rowLimit": 10000
     },
     "inputWidgets": {},
     "nuid": "2d2b1d2a-29e8-4dda-b941-faaed0b021a1",
     "showTitle": false,
     "tableResultSettingsMap": {},
     "title": ""
    }
   },
   "outputs": [
    {
     "output_type": "stream",
     "name": "stdout",
     "output_type": "stream",
     "text": [
      "Total Sales: 1800\n"
     ]
    }
   ],
   "source": [
    "#Find the total sales.\n",
    "total_sales = sum(sales)\n",
    "print(\"Total Sales:\", total_sales)\n"
   ]
  },
  {
   "cell_type": "code",
   "execution_count": 0,
   "metadata": {
    "application/vnd.databricks.v1+cell": {
     "cellMetadata": {
      "byteLimit": 2048000,
      "rowLimit": 10000
     },
     "inputWidgets": {},
     "nuid": "c5238ecf-89d9-41a8-b2c1-35643ad0e186",
     "showTitle": false,
     "tableResultSettingsMap": {},
     "title": ""
    }
   },
   "outputs": [
    {
     "output_type": "stream",
     "name": "stdout",
     "output_type": "stream",
     "text": [
      "Average Sale: 300.0\n"
     ]
    }
   ],
   "source": [
    "#Calculate the average sale amount.\n",
    "average_sale = total_sales / len(sales)\n",
    "print(\"Average Sale:\", average_sale)\n"
   ]
  },
  {
   "cell_type": "code",
   "execution_count": 0,
   "metadata": {
    "application/vnd.databricks.v1+cell": {
     "cellMetadata": {
      "byteLimit": 2048000,
      "rowLimit": 10000
     },
     "inputWidgets": {},
     "nuid": "5c1d93b9-5279-427e-8b65-67fd62665f7d",
     "showTitle": false,
     "tableResultSettingsMap": {},
     "title": ""
    }
   },
   "outputs": [
    {
     "output_type": "stream",
     "name": "stdout",
     "output_type": "stream",
     "text": [
      "Sales above 300:\n400\n500\n"
     ]
    }
   ],
   "source": [
    "#Print sale values above 300.\n",
    "print(\"Sales above 300:\")\n",
    "for sale in sales:\n",
    "    if sale > 300:\n",
    "        print(sale)\n"
   ]
  },
  {
   "cell_type": "code",
   "execution_count": 0,
   "metadata": {
    "application/vnd.databricks.v1+cell": {
     "cellMetadata": {
      "byteLimit": 2048000,
      "rowLimit": 10000
     },
     "inputWidgets": {},
     "nuid": "a4908789-f395-43c4-a84f-744daaf2a81e",
     "showTitle": false,
     "tableResultSettingsMap": {},
     "title": ""
    }
   },
   "outputs": [
    {
     "output_type": "stream",
     "name": "stdout",
     "output_type": "stream",
     "text": [
      "Sales after adding 350: [250, 300, 400, 150, 500, 200, 350]\n"
     ]
    }
   ],
   "source": [
    "#Add 350 to the list.\n",
    "sales.append(350)\n",
    "print(\"Sales after adding 350:\", sales)\n"
   ]
  },
  {
   "cell_type": "code",
   "execution_count": 0,
   "metadata": {
    "application/vnd.databricks.v1+cell": {
     "cellMetadata": {
      "byteLimit": 2048000,
      "rowLimit": 10000
     },
     "inputWidgets": {},
     "nuid": "67e41053-c90f-44cf-92d3-7b837cd7bd12",
     "showTitle": false,
     "tableResultSettingsMap": {},
     "title": ""
    }
   },
   "outputs": [
    {
     "output_type": "stream",
     "name": "stdout",
     "output_type": "stream",
     "text": [
      "Sales sorted in descending order: [500, 400, 350, 300, 250, 200, 150]\n"
     ]
    }
   ],
   "source": [
    "#Sort the list in descending order.\n",
    "sales.sort(reverse=True)\n",
    "print(\"Sales sorted in descending order:\", sales)\n"
   ]
  },
  {
   "cell_type": "code",
   "execution_count": 0,
   "metadata": {
    "application/vnd.databricks.v1+cell": {
     "cellMetadata": {
      "byteLimit": 2048000,
      "rowLimit": 10000
     },
     "inputWidgets": {},
     "nuid": "4566eca5-c5f3-4f02-adb5-7f01390e17a8",
     "showTitle": false,
     "tableResultSettingsMap": {},
     "title": ""
    }
   },
   "outputs": [
    {
     "output_type": "stream",
     "name": "stdout",
     "output_type": "stream",
     "text": [
      "{'Laptop': 70000, 'Mouse': 500, 'Keyboard': 1500, 'Monitor': 12000}\n"
     ]
    }
   ],
   "source": [
    "#Dictionary Operations\n",
    "products = {\n",
    "    \"Laptop\": 70000,\n",
    "    \"Mouse\": 500,\n",
    "    \"Keyboard\": 1500,\n",
    "    \"Monitor\": 12000\n",
    "}\n",
    "print(products)"
   ]
  },
  {
   "cell_type": "code",
   "execution_count": 0,
   "metadata": {
    "application/vnd.databricks.v1+cell": {
     "cellMetadata": {
      "byteLimit": 2048000,
      "rowLimit": 10000
     },
     "inputWidgets": {},
     "nuid": "e7c65253-e7b9-4597-8242-82e4e6132893",
     "showTitle": false,
     "tableResultSettingsMap": {},
     "title": ""
    }
   },
   "outputs": [
    {
     "output_type": "stream",
     "name": "stdout",
     "output_type": "stream",
     "text": [
      "Price of Monitor: 12000\n"
     ]
    }
   ],
   "source": [
    "#Print the price of the \"Monitor\".\n",
    "print(\"Price of Monitor:\", products[\"Monitor\"])\n"
   ]
  },
  {
   "cell_type": "code",
   "execution_count": 0,
   "metadata": {
    "application/vnd.databricks.v1+cell": {
     "cellMetadata": {
      "byteLimit": 2048000,
      "rowLimit": 10000
     },
     "inputWidgets": {},
     "nuid": "96363d0d-ae51-49a0-8146-229bd54bf079",
     "showTitle": false,
     "tableResultSettingsMap": {},
     "title": ""
    }
   },
   "outputs": [
    {
     "output_type": "stream",
     "name": "stdout",
     "output_type": "stream",
     "text": [
      "Added Webcam: {'Laptop': 70000, 'Mouse': 500, 'Keyboard': 1500, 'Monitor': 12000, 'Webcam': 3000}\n"
     ]
    }
   ],
   "source": [
    "#Add a new product \"Webcam\" with price 3000.\n",
    "products[\"Webcam\"] = 3000\n",
    "print(\"Added Webcam:\", products)\n"
   ]
  },
  {
   "cell_type": "code",
   "execution_count": 0,
   "metadata": {
    "application/vnd.databricks.v1+cell": {
     "cellMetadata": {
      "byteLimit": 2048000,
      "rowLimit": 10000
     },
     "inputWidgets": {},
     "nuid": "93425c5d-b72a-45a4-a6e6-5b1b32404127",
     "showTitle": false,
     "tableResultSettingsMap": {},
     "title": ""
    }
   },
   "outputs": [
    {
     "output_type": "stream",
     "name": "stdout",
     "output_type": "stream",
     "text": [
      "Updated Mouse price: {'Laptop': 70000, 'Mouse': 550, 'Keyboard': 1500, 'Monitor': 12000, 'Webcam': 3000}\n"
     ]
    }
   ],
   "source": [
    "#Update the price of \"Mouse\" to 550.\n",
    "products[\"Mouse\"] = 550\n",
    "print(\"Updated Mouse price:\", products)\n"
   ]
  },
  {
   "cell_type": "code",
   "execution_count": 0,
   "metadata": {
    "application/vnd.databricks.v1+cell": {
     "cellMetadata": {
      "byteLimit": 2048000,
      "rowLimit": 10000
     },
     "inputWidgets": {},
     "nuid": "c4cd70f0-b992-46c0-a37a-ca3ccdbe4f6a",
     "showTitle": false,
     "tableResultSettingsMap": {},
     "title": ""
    }
   },
   "outputs": [
    {
     "output_type": "stream",
     "name": "stdout",
     "output_type": "stream",
     "text": [
      "All Products:\nLaptop: 70000\nMouse: 550\nKeyboard: 1500\nMonitor: 12000\nWebcam: 3000\n"
     ]
    }
   ],
   "source": [
    "#Print all product names and prices using a loop.\n",
    "print(\"All Products:\")\n",
    "for product, price in products.items():\n",
    "    print(f\"{product}: {price}\")\n"
   ]
  }
 ],
 "metadata": {
  "application/vnd.databricks.v1+notebook": {
   "computePreferences": null,
   "dashboards": [],
   "environmentMetadata": {
    "base_environment": "",
    "environment_version": "1"
   },
   "inputWidgetPreferences": null,
   "language": "python",
   "notebookMetadata": {
    "pythonIndentUnit": 4
   },
   "notebookName": "Python_Assignment",
   "widgets": {}
  }
 },
 "nbformat": 4,
 "nbformat_minor": 0
}